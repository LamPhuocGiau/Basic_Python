{
 "cells": [
  {
   "cell_type": "markdown",
   "id": "e41df99c-a26f-40ea-8503-92013065cc0a",
   "metadata": {},
   "source": [
    "# Import data & examine data"
   ]
  },
  {
   "cell_type": "code",
   "execution_count": 1,
   "id": "7bdbbee7-5724-4f9f-a521-5a1b00505f1d",
   "metadata": {},
   "outputs": [
    {
     "name": "stdout",
     "output_type": "stream",
     "text": [
      "                                user_id          visit_time  \\\n",
      "0  943647ef-3682-4750-a2e1-918ba6f16188 2017-04-07 15:14:00   \n",
      "1  0c3a3dd0-fb64-4eac-bf84-ba069ce409f2 2017-01-26 14:24:00   \n",
      "2  6e0b2d60-4027-4d9a-babd-0e7d40859fb1 2017-08-20 08:23:00   \n",
      "3  6879527e-c5a6-4d14-b2da-50b85212b0ab 2017-11-04 18:15:00   \n",
      "4  a84327ff-5daa-4ba1-b789-d5b4caf81e96 2017-02-27 11:25:00   \n",
      "5  7bc62113-d51d-4e6b-85e0-1cf29e3de74a 2017-06-03 20:05:00   \n",
      "6  6f22cd44-bc63-4449-a9af-2651859da2f9 2017-03-18 23:09:00   \n",
      "7  49a6399b-c095-4e42-92eb-af90abe2bb6a 2017-01-10 12:09:00   \n",
      "8  653c095d-fd74-40dd-ae3b-5a69a2613629 2017-06-27 19:21:00   \n",
      "9  3d9fdac1-aae3-4a01-b448-934d12047468 2017-09-24 06:43:00   \n",
      "\n",
      "            cart_time       checkout_time       purchase_time  \n",
      "0                 NaT                 NaT                 NaT  \n",
      "1 2017-01-26 14:44:00 2017-01-26 14:54:00 2017-01-26 15:08:00  \n",
      "2 2017-08-20 08:31:00                 NaT                 NaT  \n",
      "3                 NaT                 NaT                 NaT  \n",
      "4                 NaT                 NaT                 NaT  \n",
      "5                 NaT                 NaT                 NaT  \n",
      "6                 NaT                 NaT                 NaT  \n",
      "7                 NaT                 NaT                 NaT  \n",
      "8                 NaT                 NaT                 NaT  \n",
      "9                 NaT                 NaT                 NaT  \n",
      "0 days 00:43:53.360160965\n"
     ]
    }
   ],
   "source": [
    "import pandas as pd\n",
    "visits = pd.read_csv('visits.csv', parse_dates = [1])\n",
    "cart = pd.read_csv('cart.csv', parse_dates = [1])\n",
    "checkout = pd.read_csv('checkout.csv', parse_dates = [1])\n",
    "purchase = pd.read_csv('purchase.csv', parse_dates = [1])\n",
    "\n",
    "# print(visits.head())\n",
    "# print(cart.head())\n",
    "# print(checkout.head())\n",
    "# print(purchase.head())\n",
    "\n",
    "visits_cart_left_merge = pd.merge(visits, cart, how = 'left')\n",
    "# print(visits_cart_left_merge)\n",
    "num_rows = len(visits_cart_left_merge)\n",
    "# print(visits_cart_left_merge.info())\n",
    "num_nulls = visits_cart_left_merge[visits_cart_left_merge.cart_time.isnull()]\n",
    "# print(num_nulls)\n",
    "visits_cart_left_merge['visited'] = ~(visits_cart_left_merge.cart_time.isnull())\n",
    "# print(visits_cart_left_merge)\n",
    "number_of_users_visited = visits_cart_left_merge.groupby('visited').user_id.count()\n",
    "# print(nuber_of_users_visited)\n",
    "percentage = number_of_users_visited.loc[True] / visits_cart_left_merge.shape[0] * 100\n",
    "# print(percentage)\n",
    "\n",
    "cart_checkout_left_merge = pd.merge(cart, checkout, how = 'left')\n",
    "cart_checkout_left_merge['cart_checkout_visited'] = ~(cart_checkout_left_merge.checkout_time.isnull())\n",
    "\n",
    "count_cart_checkout = cart_checkout_left_merge.groupby('cart_checkout_visited').user_id.count()\n",
    "cart_checkout_percentage = count_cart_checkout.loc[True]/cart_checkout_left_merge.shape[0] * 100\n",
    "# print(cart_checkout_percentage)\n",
    "\n",
    "all_data = visits.merge(cart, how ='left').merge(checkout, how = 'left').merge( purchase, how = 'left')\n",
    "print(all_data.head(10))\n",
    "\n",
    "all_data['time_to_purchase'] = all_data.purchase_time- all_data.visit_time\n",
    "print(all_data.time_to_purchase.mean())"
   ]
  }
 ],
 "metadata": {
  "kernelspec": {
   "display_name": "Python 3 (ipykernel)",
   "language": "python",
   "name": "python3"
  },
  "language_info": {
   "codemirror_mode": {
    "name": "ipython",
    "version": 3
   },
   "file_extension": ".py",
   "mimetype": "text/x-python",
   "name": "python",
   "nbconvert_exporter": "python",
   "pygments_lexer": "ipython3",
   "version": "3.10.12"
  }
 },
 "nbformat": 4,
 "nbformat_minor": 5
}
