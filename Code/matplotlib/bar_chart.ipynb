{
 "cells": [
  {
   "cell_type": "markdown",
   "id": "52c4a498",
   "metadata": {},
   "source": [
    "Exercise 2: Bar Chart"
   ]
  },
  {
   "cell_type": "markdown",
   "id": "33cc1f84",
   "metadata": {},
   "source": [
    "#### Setup"
   ]
  },
  {
   "cell_type": "code",
   "execution_count": 1,
   "id": "047d9dc9",
   "metadata": {
    "deletable": false,
    "tags": [
     "setup"
    ]
   },
   "outputs": [],
   "source": [
    "# import matplotlib and pandas\n",
    "from matplotlib import pyplot as plt\n",
    "import pandas as pd\n",
    "\n",
    "# load dataset\n",
    "bar_data = pd.read_csv('plant_data_simplified.csv')"
   ]
  },
  {
   "cell_type": "code",
   "execution_count": 2,
   "id": "f16e353c",
   "metadata": {},
   "outputs": [],
   "source": [
    "# display charts correctly\n",
    "%matplotlib inline\n",
    "plt.rcParams['figure.figsize'] = (5, 3)\n",
    "plt.rcParams['figure.dpi'] = 75"
   ]
  },
  {
   "cell_type": "markdown",
   "id": "079e0e0c",
   "metadata": {},
   "source": [
    "1. Run the Setup cells to load in the necessary packages and datasets. Run the cell below to inspect the `bar_data` dataset."
   ]
  },
  {
   "cell_type": "code",
   "execution_count": 3,
   "id": "b318baec",
   "metadata": {
    "deletable": false,
    "tags": [
     "cp1"
    ]
   },
   "outputs": [
    {
     "data": {
      "text/html": [
       "<div>\n",
       "<style scoped>\n",
       "    .dataframe tbody tr th:only-of-type {\n",
       "        vertical-align: middle;\n",
       "    }\n",
       "\n",
       "    .dataframe tbody tr th {\n",
       "        vertical-align: top;\n",
       "    }\n",
       "\n",
       "    .dataframe thead th {\n",
       "        text-align: right;\n",
       "    }\n",
       "</style>\n",
       "<table border=\"1\" class=\"dataframe\">\n",
       "  <thead>\n",
       "    <tr style=\"text-align: right;\">\n",
       "      <th></th>\n",
       "      <th>Unnamed: 0</th>\n",
       "      <th>Time</th>\n",
       "      <th>PH</th>\n",
       "      <th>avg_plant_height</th>\n",
       "      <th>avg_lateral_spread</th>\n",
       "      <th>average_leaf_length</th>\n",
       "      <th>average_leaf_width</th>\n",
       "      <th>error</th>\n",
       "    </tr>\n",
       "  </thead>\n",
       "  <tbody>\n",
       "    <tr>\n",
       "      <th>0</th>\n",
       "      <td>0</td>\n",
       "      <td>104</td>\n",
       "      <td>pH5</td>\n",
       "      <td>107.6</td>\n",
       "      <td>26.2</td>\n",
       "      <td>13.2</td>\n",
       "      <td>8.0</td>\n",
       "      <td>0.50</td>\n",
       "    </tr>\n",
       "    <tr>\n",
       "      <th>1</th>\n",
       "      <td>1</td>\n",
       "      <td>104</td>\n",
       "      <td>pH6</td>\n",
       "      <td>107.8</td>\n",
       "      <td>26.9</td>\n",
       "      <td>13.8</td>\n",
       "      <td>7.6</td>\n",
       "      <td>1.20</td>\n",
       "    </tr>\n",
       "    <tr>\n",
       "      <th>2</th>\n",
       "      <td>2</td>\n",
       "      <td>104</td>\n",
       "      <td>pH7</td>\n",
       "      <td>62.2</td>\n",
       "      <td>20.8</td>\n",
       "      <td>10.6</td>\n",
       "      <td>5.8</td>\n",
       "      <td>0.75</td>\n",
       "    </tr>\n",
       "  </tbody>\n",
       "</table>\n",
       "</div>"
      ],
      "text/plain": [
       "   Unnamed: 0  Time   PH  avg_plant_height  avg_lateral_spread  \\\n",
       "0           0   104  pH5             107.6                26.2   \n",
       "1           1   104  pH6             107.8                26.9   \n",
       "2           2   104  pH7              62.2                20.8   \n",
       "\n",
       "   average_leaf_length  average_leaf_width  error  \n",
       "0                 13.2                 8.0   0.50  \n",
       "1                 13.8                 7.6   1.20  \n",
       "2                 10.6                 5.8   0.75  "
      ]
     },
     "execution_count": 3,
     "metadata": {},
     "output_type": "execute_result"
    }
   ],
   "source": [
    "bar_data.head()"
   ]
  },
  {
   "cell_type": "markdown",
   "id": "6a172e5e",
   "metadata": {},
   "source": [
    "2. Above the `plt.title()` code, write the code to make a bar chart of pH and average leaf width. Set the width equal to 0.8 and align to center. The code for the title and axis labels is written for you already."
   ]
  },
  {
   "cell_type": "code",
   "execution_count": 5,
   "id": "e73ed471",
   "metadata": {
    "deletable": false,
    "tags": [
     "cp2"
    ]
   },
   "outputs": [
    {
     "data": {
      "image/png": "[encoded data removed]",
      "text/plain": [
       "<Figure size 375x225 with 1 Axes>"
      ]
     },
     "metadata": {},
     "output_type": "display_data"
    }
   ],
   "source": [
    "## YOUR SOLUTION HERE ##\n",
    "plt.bar(x = bar_data.PH, height = bar_data.average_leaf_width, width = 0.8, align = 'center')\n",
    "plt.title('Effect of pH on Leaf Width')\n",
    "plt.xlabel('pH')\n",
    "plt.ylabel('Leaf Width (cm)')\n",
    "plt.show()"
   ]
  }
 ],
 "metadata": {
  "kernelspec": {
   "display_name": "Python 3 (ipykernel)",
   "language": "python",
   "name": "python3"
  },
  "language_info": {
   "codemirror_mode": {
    "name": "ipython",
    "version": 3
   },
   "file_extension": ".py",
   "mimetype": "text/x-python",
   "name": "python",
   "nbconvert_exporter": "python",
   "pygments_lexer": "ipython3",
   "version": "3.8.10"
  }
 },
 "nbformat": 4,
 "nbformat_minor": 5
}
